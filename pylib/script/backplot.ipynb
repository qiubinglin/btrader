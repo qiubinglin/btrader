{
 "cells": [
  {
   "cell_type": "code",
   "execution_count": null,
   "id": "d4a8e378-393b-4d3c-9e99-c519bfb586ab",
   "metadata": {},
   "outputs": [],
   "source": [
    "import pandas as pd\n",
    "import mplfinance as mpf\n",
    "import matplotlib.pyplot as plt\n",
    "import matplotlib.dates as mdates"
   ]
  },
  {
   "cell_type": "code",
   "execution_count": null,
   "id": "87e0e978-b7ea-4544-b9e4-8f359a168637",
   "metadata": {},
   "outputs": [],
   "source": [
    "# 构造秒级数据\n",
    "data = {\n",
    "    'Open': [100, 101, 102, 103],\n",
    "    'High': [105, 106, 107, 108],\n",
    "    'Low':  [99, 100, 101, 102],\n",
    "    'Close':[104, 102, 106, 100],\n",
    "    'Volume':[1000, 1100, 1200, 1300],\n",
    "}\n",
    "index = pd.date_range(\"2000-01-01\", periods=4, freq=\"1s\")\n",
    "print(index)\n",
    "df = pd.DataFrame(data, index=index)\n",
    "print(df)\n",
    "\n",
    "# 自定义红涨绿跌颜色\n",
    "mc = mpf.make_marketcolors(\n",
    "    up='red', down='green',\n",
    "    edge='inherit',\n",
    "    wick='inherit',\n",
    "    volume='in'\n",
    ")\n",
    "style = mpf.make_mpf_style(marketcolors=mc)\n",
    "\n",
    "# 使用 `returnfig=True` 获取 matplotlib Figure 和 Axes\n",
    "fig, axlist = mpf.plot(\n",
    "    df,\n",
    "    type='candle',\n",
    "    style=style,\n",
    "    title='KLines',\n",
    "    ylabel='Price',\n",
    "    volume=True,\n",
    "    returnfig=True, # Get matplotlib Figure and Axes\n",
    ")\n",
    "\n",
    "# 手动设置x轴格式化器\n",
    "ax = axlist[0]  # K线主图所在Axes\n",
    "# locator = mdates.SecondLocator(interval=1)\n",
    "# ax.xaxis.set_major_locator(locator)\n",
    "# formatter = mdates.DateFormatter('%Y-%m-%d %H:%M:%S')  # Setup date format, need to adapt to hte date string\n",
    "# ax.xaxis.set_major_formatter(formatter)\n",
    "# fig.autofmt_xdate()\n",
    "\n",
    "plt.setp(ax.xaxis.get_majorticklabels(), rotation=45)\n",
    "plt.show()"
   ]
  },
  {
   "cell_type": "code",
   "execution_count": null,
   "id": "93dbdd77-ee60-4466-8206-079c8ab053b6",
   "metadata": {},
   "outputs": [],
   "source": []
  }
 ],
 "metadata": {
  "kernelspec": {
   "display_name": "Python 3 (ipykernel)",
   "language": "python",
   "name": "python3"
  },
  "language_info": {
   "codemirror_mode": {
    "name": "ipython",
    "version": 3
   },
   "file_extension": ".py",
   "mimetype": "text/x-python",
   "name": "python",
   "nbconvert_exporter": "python",
   "pygments_lexer": "ipython3",
   "version": "3.10.18"
  }
 },
 "nbformat": 4,
 "nbformat_minor": 5
}
